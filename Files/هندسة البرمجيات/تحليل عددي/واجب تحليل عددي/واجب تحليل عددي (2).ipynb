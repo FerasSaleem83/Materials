{
  "nbformat": 4,
  "nbformat_minor": 0,
  "metadata": {
    "colab": {
      "provenance": []
    },
    "kernelspec": {
      "name": "python3",
      "display_name": "Python 3"
    },
    "language_info": {
      "name": "python"
    }
  },
  "cells": [
    {
      "cell_type": "code",
      "execution_count": 7,
      "metadata": {
        "colab": {
          "base_uri": "https://localhost:8080/"
        },
        "id": "tUGJ-e04eG8j",
        "outputId": "759e4fa7-93b1-4455-c8d5-5aa61aebc0e0"
      },
      "outputs": [
        {
          "output_type": "stream",
          "name": "stdout",
          "text": [
            "A = [[3, 4], [2, 7]]\n",
            "B = [[5, 6], [2, 8]]\n",
            "A + B\n",
            "Matrix addition=\n",
            "[[ 8 10]\n",
            " [ 4 15]]\n",
            "\n",
            "---------------------------\n",
            "\n",
            "A = [[3, 4], [2, 7]]\n",
            "B = [[5, 6], [2, 8]]\n",
            "A - B\n",
            "Matrix subtraction=\n",
            "[[-2 -2]\n",
            " [ 0 -1]]\n",
            "\n",
            "---------------------------\n",
            "\n",
            "A = [[7, 8], [4, 9], [5, 5]]\n",
            "5* A\n",
            "Scalar multiplication=\n",
            "[[35 40]\n",
            " [20 45]\n",
            " [25 25]]\n",
            "\n",
            "---------------------------\n",
            "\n",
            "A = [[7, 8], [4, 9], [5, 5]]\n",
            "B = [[4, 2, 2], [5, 7, 9]]\n",
            "A * B\n",
            "Matrix multiplication=\n",
            "[[68 70 86]\n",
            " [61 71 89]\n",
            " [45 45 55]]\n"
          ]
        }
      ],
      "source": [
        "import numpy as nump\n",
        "\n",
        "# Define two example matrices\n",
        "A = nump.array([[3, 4], [2, 7]])\n",
        "B = nump.array([[5, 6], [2, 8]])\n",
        "\n",
        "print(\"A = [[3, 4], [2, 7]]\")\n",
        "print(\"B = [[5, 6], [2, 8]]\")\n",
        "print(\"A + B\")\n",
        "\n",
        "# Matrix addition\n",
        "result_Matrix_addition = A + B\n",
        "print(\"Matrix addition=\") \n",
        "print(result_Matrix_addition)\n",
        "\n",
        "print(\"\")\n",
        "print(\"---------------------------\")\n",
        "print(\"\")\n",
        "\n",
        "# Define two example matrices\n",
        "A = nump.array([[3, 4], [2, 7]])\n",
        "B = nump.array([[5, 6], [2, 8]])\n",
        "\n",
        "print(\"A = [[3, 4], [2, 7]]\")\n",
        "print(\"B = [[5, 6], [2, 8]]\")\n",
        "print(\"A - B\")\n",
        "\n",
        "# Matrix subtraction\n",
        "result_Matrix_subtraction = A - B\n",
        "print(\"Matrix subtraction=\")\n",
        "print(result_Matrix_subtraction)\n",
        "\n",
        "print(\"\")\n",
        "print(\"---------------------------\")\n",
        "print(\"\")\n",
        "\n",
        "# Define an example matrix\n",
        "A = nump.array([[7, 8], [4, 9], [5, 5]])\n",
        "\n",
        "print(\"A = [[7, 8], [4, 9], [5, 5]]\")\n",
        "print(\"5* A\")\n",
        "\n",
        "# Scalar multiplication\n",
        "result_Scalar_multiplication = 5 * A\n",
        "print(\"Scalar multiplication=\")\n",
        "print(result_Scalar_multiplication)\n",
        "\n",
        "print(\"\")\n",
        "print(\"---------------------------\")\n",
        "print(\"\")\n",
        "\n",
        "# Define two example matrices\n",
        "A = nump.array([[7, 8], [4, 9], [5, 5]])\n",
        "B = nump.array([[4, 2, 2], [5, 7, 9]])\n",
        "\n",
        "print(\"A = [[7, 8], [4, 9], [5, 5]]\")\n",
        "print(\"B = [[4, 2, 2], [5, 7, 9]]\")\n",
        "print(\"A * B\")\n",
        "\n",
        "# Matrix multiplication\n",
        "result_Matrix_multiplication = nump.dot(A, B)\n",
        "print(\"Matrix multiplication=\")\n",
        "print(result_Matrix_multiplication)\n"
      ]
    }
  ]
}