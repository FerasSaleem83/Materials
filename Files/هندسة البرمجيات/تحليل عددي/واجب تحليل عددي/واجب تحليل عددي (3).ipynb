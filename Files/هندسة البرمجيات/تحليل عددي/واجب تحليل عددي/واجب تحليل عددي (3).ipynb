{
  "cells": [
    {
      "cell_type": "code",
      "execution_count": 24,
      "metadata": {
        "colab": {
          "base_uri": "https://localhost:8080/"
        },
        "id": "IecM-UUihjea",
        "outputId": "a741d3be-3309-438a-8ecc-e04ae0def5b7"
      },
      "outputs": [
        {
          "name": "stdout",
          "output_type": "stream",
          "text": [
            "A = [[6, 4, 0], [3, 1, 3], [2, 5, 5]]\n",
            "B = [[4, 2, 3], [5, 7, 1], [1, 2, 2]]\n",
            "A + B\n",
            "result Matrix addition=\n",
            "[[10  6  3]\n",
            " [ 8  8  4]\n",
            " [ 3  7  7]]\n",
            "\n",
            "..........................\n",
            "\n",
            "A = [[6, 4], [3, 1], [2, 5]]\n",
            "B = [[4, 3], [5, 7], [1, 2]]\n",
            "A - B\n",
            "result Matrix subtraction=\n",
            "[[ 2  1]\n",
            " [-2 -6]\n",
            " [ 1  3]]\n",
            "\n",
            "..........................\n",
            "\n",
            "A = [[6, 4, 0], [3, 1, 3], [2, 5, 5]]\n",
            "scalar = 3\n",
            "scalar * A\n",
            "result Scalar multiplication=\n",
            "[[18 12  0]\n",
            " [ 9  3  9]\n",
            " [ 6 15 15]]\n",
            "\n",
            "..........................\n",
            "\n",
            "A = [[6, 4], [3, 1], [2, 5]]\n",
            "B = [[4, 2, 3], [5, 7, 1]]\n",
            "A * B\n",
            "result Matrix multiplication=\n",
            "[[44 40 22]\n",
            " [17 13 10]\n",
            " [33 39 11]]\n"
          ]
        }
      ],
      "source": [
        "import numpy as nump\n",
        "\n",
        "# Define two example matrices\n",
        "A = nump.array([[5, 6], [3, 3]])\n",
        "B = nump.array([[2, 3], [5, 1]])\n",
        "\n",
        "print(\"A = [[5, 6], [3,  3]]\")\n",
        "print(\"B = [[2, 3], [5, 1]]\")\n",
        "print(\"A + B\")\n",
        "\n",
        "# Matrix addition\n",
        "result_Matrix_addition = A + B\n",
        "print(\"result Matrix addition=\")\n",
        "print(result_Matrix_addition)\n",
        "\n",
        "print(\"\")\n",
        "print(\"..........................\")\n",
        "print(\"\")\n",
        "\n",
        "# Define two example matrices\n",
        "A = nump.array([[5, 6], [3,  3]])\n",
        "B = nump.array([[2, 3], [5, 1]])\n",
        "\n",
        "print(\"A = [[5, 6], [3,  3]]\")\n",
        "print(\"B = [[2, 3], [5, 1]]\")\n",
        "print(\"A - B\")\n",
        "\n",
        "# Matrix subtraction\n",
        "result_Matrix_subtraction = A - B\n",
        "print(\"result Matrix subtraction=\")\n",
        "print(result_Matrix_subtraction)\n",
        "\n",
        "print(\"\")\n",
        "print(\"..........................\")\n",
        "print(\"\")\n",
        "\n",
        "# Define an example matrix\n",
        "A = nump.array([[6, 4, 0], [3, 1, 3], [2, 5, 5]])\n",
        "\n",
        "print(\"A = [[5, 6], [3,  3]]\")\n",
        "print(\"3* A\")\n",
        "\n",
        "# Scalar multiplication\n",
        "result_Scalar_multiplication = 3 * A\n",
        "print(\"result Scalar multiplication=\")\n",
        "print(result_Scalar_multiplication)\n",
        "\n",
        "print(\"\")\n",
        "print(\"..........................\")\n",
        "print(\"\")\n",
        "\n",
        "# Define two example matrices\n",
        "A = nump.array([[5, 6], [3,  3]])\n",
        "B = nump.array([[2, 3], [5, 1]])\n",
        "\n",
        "print(\"A = [[5, 6], [3,  3]]\")\n",
        "print(\"B = [[2, 3], [5, 1]]\")\n",
        "print(\"A * B\")\n",
        "\n",
        "# Matrix multiplication\n",
        "result_Matrix_multiplication = nump.dot(A, B)\n",
        "print(\"result Matrix multiplication=\")\n",
        "print(result_Matrix_multiplication)"
      ]
    }
  ],
  "metadata": {
    "colab": {
      "provenance": []
    },
    "kernelspec": {
      "display_name": "Python 3",
      "name": "python3"
    },
    "language_info": {
      "name": "python"
    }
  },
  "nbformat": 4,
  "nbformat_minor": 0
}
